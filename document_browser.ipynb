{
 "cells": [
  {
   "cell_type": "code",
   "execution_count": 1,
   "id": "33f9daac",
   "metadata": {},
   "outputs": [],
   "source": [
    "import os\n",
    "from dotenv import load_dotenv, find_dotenv\n",
    "_ = load_dotenv(find_dotenv())\n",
    "\n",
    "OPENAI_API_KEY = os.getenv(\"OPENAI_API_KEY\")\n",
    "assert OPENAI_API_KEY, \"Add your OpenAI key to a .env file\"\n"
   ]
  },
  {
   "cell_type": "code",
   "execution_count": 2,
   "id": "4e36bdd9",
   "metadata": {},
   "outputs": [],
   "source": [
    "from langchain_openai import OpenAIEmbeddings\n",
    "from langchain.vectorstores.pgvector import PGVector\n",
    "from langchain.text_splitter import RecursiveCharacterTextSplitter\n",
    "\n",
    "embeddings = OpenAIEmbeddings(model=\"text-embedding-3-small\")\n",
    "text_splitter = RecursiveCharacterTextSplitter(chunk_size=1500, chunk_overlap=200)"
   ]
  },
  {
   "cell_type": "code",
   "execution_count": 3,
   "id": "61d57fa8",
   "metadata": {},
   "outputs": [],
   "source": [
    "from langchain.document_loaders import (\n",
    "    TextLoader, CSVLoader, JSONLoader, UnstructuredPDFLoader,\n",
    "    UnstructuredExcelLoader, UnstructuredHTMLLoader,\n",
    ")\n",
    "FILE_LOADERS = {\n",
    "    \".txt\": TextLoader,\n",
    "    \".md\":  TextLoader,\n",
    "    \".pdf\": UnstructuredPDFLoader,\n",
    "    \".csv\": CSVLoader,            # returns BOTH text & DataFrame\n",
    "    \".json\": JSONLoader,\n",
    "    \".xls\": UnstructuredExcelLoader,\n",
    "    \".xlsx\": UnstructuredExcelLoader,\n",
    "    \".html\": UnstructuredHTMLLoader,\n",
    "}\n"
   ]
  },
  {
   "cell_type": "code",
   "execution_count": 4,
   "id": "fb8765ce",
   "metadata": {},
   "outputs": [],
   "source": [
    "import json, inspect, pandas as pd, numpy as np\n",
    "from typing import TypedDict, List\n",
    "\n",
    "class Tool(TypedDict):\n",
    "    name: str\n",
    "    description: str\n",
    "    parameters: dict     # JSON-Schema\n",
    "\n",
    "tool_registry: List[Tool] = []\n",
    "\n",
    "def tool(fn=None, *, name=None, description=\"\"):\n",
    "    \"Decorator to auto-register a function as an LLM-callable tool\"\n",
    "    def wrap(f):\n",
    "        sig = inspect.signature(f)\n",
    "        schema = {\n",
    "            \"type\": \"object\",\n",
    "            \"properties\": {\n",
    "                p.name: {\"type\": \"string\"}  # keep simple; parse inside\n",
    "                for p in sig.parameters.values()\n",
    "            },\n",
    "            \"required\": list(sig.parameters),\n",
    "        }\n",
    "        tool_registry.append(\n",
    "            {\"name\": name or f.__name__, \"description\": description, \"parameters\": schema}\n",
    "        )\n",
    "        return f\n",
    "    return wrap if fn is None else wrap(fn)\n",
    "\n",
    "# --- Examples -----------------------------------------------------\n",
    "\n",
    "@tool(description=\"Run an SQL-style query on a pandas DataFrame\")\n",
    "def df_query(df_json: str, query: str) -> str:\n",
    "    df = pd.read_json(df_json)\n",
    "    result = df.query(query)\n",
    "    return result.to_markdown(index=False)\n",
    "\n",
    "@tool(description=\"Aggregate a numeric column in a DataFrame\")\n",
    "def df_agg(df_json: str, column: str, agg: str) -> str:\n",
    "    df = pd.read_json(df_json)\n",
    "    val = getattr(df[column], agg)()\n",
    "    return json.dumps({agg: val})\n"
   ]
  },
  {
   "cell_type": "code",
   "execution_count": 5,
   "id": "cddd58ba",
   "metadata": {},
   "outputs": [],
   "source": [
    "from openai import OpenAI\n",
    "import tiktoken, os, json\n",
    "\n",
    "client = OpenAI()\n",
    "\n",
    "def agent_qa(question: str, docs):\n",
    "    messages = [\n",
    "        {\"role\": \"system\", \"content\": \"You are a research assistant.\"},\n",
    "        {\n",
    "            \"role\": \"user\",\n",
    "            \"content\": question\n",
    "                     + \"\\n\\n---\\nHere are relevant documents:\\n\"\n",
    "                     + \"\\n\\n\".join(d.page_content for d in docs[:10])\n",
    "        },\n",
    "    ]\n",
    "    while True:\n",
    "        resp = client.chat.completions.create(\n",
    "            model=\"gpt-4o-mini\",\n",
    "            messages=messages,\n",
    "            tools=tool_registry,        # <--- attaches our functions\n",
    "            tool_choice=\"auto\",\n",
    "            temperature=0.2,\n",
    "        )\n",
    "        msg = resp.choices[0].message\n",
    "        if msg.tool_calls:\n",
    "            for call in msg.tool_calls:\n",
    "                fn = next(t for t in tool_registry if t[\"name\"] == call.function.name)\n",
    "                args = json.loads(call.function.arguments)\n",
    "                result = globals()[fn[\"name\"]](**args)   # run local Python\n",
    "                messages.append(\n",
    "                    {\n",
    "                        \"role\": \"tool\",\n",
    "                        \"tool_call_id\": call.id,\n",
    "                        \"name\": fn[\"name\"],\n",
    "                        \"content\": str(result),\n",
    "                    }\n",
    "                )\n",
    "            continue     # let the LLM see results & finish\n",
    "        else:\n",
    "            return msg.content\n"
   ]
  },
  {
   "cell_type": "code",
   "execution_count": 6,
   "id": "c0c80535",
   "metadata": {},
   "outputs": [
    {
     "ename": "AttributeError",
     "evalue": "'dict' object has no attribute 'page_content'",
     "output_type": "error",
     "traceback": [
      "\u001b[31m---------------------------------------------------------------------------\u001b[39m",
      "\u001b[31mAttributeError\u001b[39m                            Traceback (most recent call last)",
      "\u001b[36mCell\u001b[39m\u001b[36m \u001b[39m\u001b[32mIn[6]\u001b[39m\u001b[32m, line 1\u001b[39m\n\u001b[32m----> \u001b[39m\u001b[32m1\u001b[39m \u001b[38;5;28mprint\u001b[39m(\u001b[43magent_qa\u001b[49m\u001b[43m(\u001b[49m\u001b[33;43m\"\u001b[39;49m\u001b[33;43mWhat are the top 3 countries by population?\u001b[39;49m\u001b[33;43m\"\u001b[39;49m\u001b[43m,\u001b[49m\u001b[43m \u001b[49m\u001b[43m[\u001b[49m\n\u001b[32m      2\u001b[39m \u001b[43m    \u001b[49m\u001b[43m{\u001b[49m\u001b[33;43m\"\u001b[39;49m\u001b[33;43mpage_content\u001b[39;49m\u001b[33;43m\"\u001b[39;49m\u001b[43m:\u001b[49m\u001b[43m \u001b[49m\u001b[33;43m\"\u001b[39;49m\u001b[33;43mChina has a population of 1.4 billion, India has 1.4 billion, and the USA has 331 million.\u001b[39;49m\u001b[33;43m\"\u001b[39;49m\u001b[43m}\u001b[49m\u001b[43m,\u001b[49m\n\u001b[32m      3\u001b[39m \u001b[43m    \u001b[49m\u001b[43m{\u001b[49m\u001b[33;43m\"\u001b[39;49m\u001b[33;43mpage_content\u001b[39;49m\u001b[33;43m\"\u001b[39;49m\u001b[43m:\u001b[49m\u001b[43m \u001b[49m\u001b[33;43m\"\u001b[39;49m\u001b[33;43mChina is the most populous country with 1.4 billion people, followed closely by India with 1.4 billion, and the USA with 331 million.\u001b[39;49m\u001b[33;43m\"\u001b[39;49m\u001b[43m}\u001b[49m\u001b[43m,\u001b[49m\n\u001b[32m      4\u001b[39m \u001b[43m    \u001b[49m\u001b[43m{\u001b[49m\u001b[33;43m\"\u001b[39;49m\u001b[33;43mpage_content\u001b[39;49m\u001b[33;43m\"\u001b[39;49m\u001b[43m:\u001b[49m\u001b[43m \u001b[49m\u001b[33;43m\"\u001b[39;49m\u001b[33;43mThe top three countries by population are China, India, and the USA.\u001b[39;49m\u001b[33;43m\"\u001b[39;49m\u001b[43m}\u001b[49m\u001b[43m,\u001b[49m\n\u001b[32m      5\u001b[39m \u001b[43m]\u001b[49m\u001b[43m)\u001b[49m)\n",
      "\u001b[36mCell\u001b[39m\u001b[36m \u001b[39m\u001b[32mIn[5]\u001b[39m\u001b[32m, line 13\u001b[39m, in \u001b[36magent_qa\u001b[39m\u001b[34m(question, docs)\u001b[39m\n\u001b[32m      6\u001b[39m \u001b[38;5;28;01mdef\u001b[39;00m\u001b[38;5;250m \u001b[39m\u001b[34magent_qa\u001b[39m(question: \u001b[38;5;28mstr\u001b[39m, docs):\n\u001b[32m      7\u001b[39m     messages = [\n\u001b[32m      8\u001b[39m         {\u001b[33m\"\u001b[39m\u001b[33mrole\u001b[39m\u001b[33m\"\u001b[39m: \u001b[33m\"\u001b[39m\u001b[33msystem\u001b[39m\u001b[33m\"\u001b[39m, \u001b[33m\"\u001b[39m\u001b[33mcontent\u001b[39m\u001b[33m\"\u001b[39m: \u001b[33m\"\u001b[39m\u001b[33mYou are a research assistant.\u001b[39m\u001b[33m\"\u001b[39m},\n\u001b[32m      9\u001b[39m         {\n\u001b[32m     10\u001b[39m             \u001b[33m\"\u001b[39m\u001b[33mrole\u001b[39m\u001b[33m\"\u001b[39m: \u001b[33m\"\u001b[39m\u001b[33muser\u001b[39m\u001b[33m\"\u001b[39m,\n\u001b[32m     11\u001b[39m             \u001b[33m\"\u001b[39m\u001b[33mcontent\u001b[39m\u001b[33m\"\u001b[39m: question\n\u001b[32m     12\u001b[39m                      + \u001b[33m\"\u001b[39m\u001b[38;5;130;01m\\n\u001b[39;00m\u001b[38;5;130;01m\\n\u001b[39;00m\u001b[33m---\u001b[39m\u001b[38;5;130;01m\\n\u001b[39;00m\u001b[33mHere are relevant documents:\u001b[39m\u001b[38;5;130;01m\\n\u001b[39;00m\u001b[33m\"\u001b[39m\n\u001b[32m---> \u001b[39m\u001b[32m13\u001b[39m                      + \u001b[33;43m\"\u001b[39;49m\u001b[38;5;130;43;01m\\n\u001b[39;49;00m\u001b[38;5;130;43;01m\\n\u001b[39;49;00m\u001b[33;43m\"\u001b[39;49m\u001b[43m.\u001b[49m\u001b[43mjoin\u001b[49m\u001b[43m(\u001b[49m\u001b[43md\u001b[49m\u001b[43m.\u001b[49m\u001b[43mpage_content\u001b[49m\u001b[43m \u001b[49m\u001b[38;5;28;43;01mfor\u001b[39;49;00m\u001b[43m \u001b[49m\u001b[43md\u001b[49m\u001b[43m \u001b[49m\u001b[38;5;129;43;01min\u001b[39;49;00m\u001b[43m \u001b[49m\u001b[43mdocs\u001b[49m\u001b[43m[\u001b[49m\u001b[43m:\u001b[49m\u001b[32;43m10\u001b[39;49m\u001b[43m]\u001b[49m\u001b[43m)\u001b[49m\n\u001b[32m     14\u001b[39m         },\n\u001b[32m     15\u001b[39m     ]\n\u001b[32m     16\u001b[39m     \u001b[38;5;28;01mwhile\u001b[39;00m \u001b[38;5;28;01mTrue\u001b[39;00m:\n\u001b[32m     17\u001b[39m         resp = client.chat.completions.create(\n\u001b[32m     18\u001b[39m             model=\u001b[33m\"\u001b[39m\u001b[33mgpt-4o-mini\u001b[39m\u001b[33m\"\u001b[39m,\n\u001b[32m     19\u001b[39m             messages=messages,\n\u001b[32m   (...)\u001b[39m\u001b[32m     22\u001b[39m             temperature=\u001b[32m0.2\u001b[39m,\n\u001b[32m     23\u001b[39m         )\n",
      "\u001b[36mCell\u001b[39m\u001b[36m \u001b[39m\u001b[32mIn[5]\u001b[39m\u001b[32m, line 13\u001b[39m, in \u001b[36m<genexpr>\u001b[39m\u001b[34m(.0)\u001b[39m\n\u001b[32m      6\u001b[39m \u001b[38;5;28;01mdef\u001b[39;00m\u001b[38;5;250m \u001b[39m\u001b[34magent_qa\u001b[39m(question: \u001b[38;5;28mstr\u001b[39m, docs):\n\u001b[32m      7\u001b[39m     messages = [\n\u001b[32m      8\u001b[39m         {\u001b[33m\"\u001b[39m\u001b[33mrole\u001b[39m\u001b[33m\"\u001b[39m: \u001b[33m\"\u001b[39m\u001b[33msystem\u001b[39m\u001b[33m\"\u001b[39m, \u001b[33m\"\u001b[39m\u001b[33mcontent\u001b[39m\u001b[33m\"\u001b[39m: \u001b[33m\"\u001b[39m\u001b[33mYou are a research assistant.\u001b[39m\u001b[33m\"\u001b[39m},\n\u001b[32m      9\u001b[39m         {\n\u001b[32m     10\u001b[39m             \u001b[33m\"\u001b[39m\u001b[33mrole\u001b[39m\u001b[33m\"\u001b[39m: \u001b[33m\"\u001b[39m\u001b[33muser\u001b[39m\u001b[33m\"\u001b[39m,\n\u001b[32m     11\u001b[39m             \u001b[33m\"\u001b[39m\u001b[33mcontent\u001b[39m\u001b[33m\"\u001b[39m: question\n\u001b[32m     12\u001b[39m                      + \u001b[33m\"\u001b[39m\u001b[38;5;130;01m\\n\u001b[39;00m\u001b[38;5;130;01m\\n\u001b[39;00m\u001b[33m---\u001b[39m\u001b[38;5;130;01m\\n\u001b[39;00m\u001b[33mHere are relevant documents:\u001b[39m\u001b[38;5;130;01m\\n\u001b[39;00m\u001b[33m\"\u001b[39m\n\u001b[32m---> \u001b[39m\u001b[32m13\u001b[39m                      + \u001b[33m\"\u001b[39m\u001b[38;5;130;01m\\n\u001b[39;00m\u001b[38;5;130;01m\\n\u001b[39;00m\u001b[33m\"\u001b[39m.join(\u001b[43md\u001b[49m\u001b[43m.\u001b[49m\u001b[43mpage_content\u001b[49m \u001b[38;5;28;01mfor\u001b[39;00m d \u001b[38;5;129;01min\u001b[39;00m docs[:\u001b[32m10\u001b[39m])\n\u001b[32m     14\u001b[39m         },\n\u001b[32m     15\u001b[39m     ]\n\u001b[32m     16\u001b[39m     \u001b[38;5;28;01mwhile\u001b[39;00m \u001b[38;5;28;01mTrue\u001b[39;00m:\n\u001b[32m     17\u001b[39m         resp = client.chat.completions.create(\n\u001b[32m     18\u001b[39m             model=\u001b[33m\"\u001b[39m\u001b[33mgpt-4o-mini\u001b[39m\u001b[33m\"\u001b[39m,\n\u001b[32m     19\u001b[39m             messages=messages,\n\u001b[32m   (...)\u001b[39m\u001b[32m     22\u001b[39m             temperature=\u001b[32m0.2\u001b[39m,\n\u001b[32m     23\u001b[39m         )\n",
      "\u001b[31mAttributeError\u001b[39m: 'dict' object has no attribute 'page_content'"
     ]
    }
   ],
   "source": [
    "print(agent_qa(\"What are the top 3 countries by population?\", [\n",
    "    {\"page_content\": \"China has a population of 1.4 billion, India has 1.4 billion, and the USA has 331 million.\"},\n",
    "    {\"page_content\": \"China is the most populous country with 1.4 billion people, followed closely by India with 1.4 billion, and the USA with 331 million.\"},\n",
    "    {\"page_content\": \"The top three countries by population are China, India, and the USA.\"},\n",
    "]))"
   ]
  }
 ],
 "metadata": {
  "kernelspec": {
   "display_name": ".venv",
   "language": "python",
   "name": "python3"
  },
  "language_info": {
   "codemirror_mode": {
    "name": "ipython",
    "version": 3
   },
   "file_extension": ".py",
   "mimetype": "text/x-python",
   "name": "python",
   "nbconvert_exporter": "python",
   "pygments_lexer": "ipython3",
   "version": "3.12.11"
  }
 },
 "nbformat": 4,
 "nbformat_minor": 5
}
